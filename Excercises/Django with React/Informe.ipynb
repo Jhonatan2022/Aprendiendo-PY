{
 "cells": [
  {
   "attachments": {},
   "cell_type": "markdown",
   "metadata": {},
   "source": [
    "## Comandos para crear el proyecto Django\n",
    "\n",
    "* Para crear el virtualenv: ``python -m vitualenv env``\n",
    "* Para activar el virtualenv: ``env\\bin\\activate``\t\n",
    "* Para intstalar Django: ``pip install django==3.2.16``\n",
    "* Comprobar la instalación con:``python -m django --version``\n",
    "* Para crear el proyecto: ``django-admin startproject core .`` (el punto es para que no cree una carpeta)\n",
    "* Creamos la base de datos: ``python manage.py migrate``\n",
    "* Creamos el superusuario: ``python manage.py createsuperuser``\n",
    "* Para arrancar el servidor: ``python manage.py runserver``\n"
   ]
  },
  {
   "attachments": {},
   "cell_type": "markdown",
   "metadata": {},
   "source": [
    "## WSGI (Web Server Gateway Interface) AND ASGI (Asynchronous Server Gateway Interface)\n",
    "\n",
    "* WSGI es un protocolo que permite a los servidores web interactuar con las aplicaciones web.\n",
    "\n",
    "* ASGI es una especificación de protocolo que define cómo los servidores web y los servidores de aplicaciones interactúan con las aplicaciones web asincrónicas.\n",
    "\n",
    "* ASGI es una versión asincrónica de WSGI.\n",
    "\n",
    "* Por ejemplo si tuvieramos que hacer una petición a una base de datos, en WSGI tendríamos que esperar a que la base de datos nos devuelva la información, mientras que en ASGI podríamos hacer otras cosas mientras esperamos a que la base de datos nos devuelva la información.\n",
    "\n",
    "![](Imagenes/Comparation.png)"
   ]
  },
  {
   "attachments": {},
   "cell_type": "markdown",
   "metadata": {},
   "source": [
    "## Comandos para crear el proyecto React\n",
    "\n",
    "* Para crear el proyecto: ``npx create-react-app frontend``\n",
    "* Para iniciar el proyecto: ``npm run start``\n",
    "* Para instalar las dependencias: ``npm install``\n"
   ]
  },
  {
   "attachments": {},
   "cell_type": "markdown",
   "metadata": {},
   "source": [
    "## Vinculando Django con React\n",
    "\n",
    "### React\n",
    "\n",
    "1. Luego de haber creado el proyecto con react copiaremos los archivos ``Public, src, package.json` y los pegaremos en la carpeta del proyecto de Django.\n",
    "\n",
    "* Luego de haber copiado los archivos, en la carpeta del proyecto de Django, ejecutaremos el comando ``npm i`` para crear un archivo de hambiente.\n",
    "\n",
    "* Ejecutamos el comando ``npm run build`` para crear la carpeta ``build``.\n",
    "\n",
    "### Django\n",
    "\n",
    "1. Ejecutamos el comando ``python manage.py collectstatic`` para crear la carpeta ``static``.\n",
    "\n",
    "2. En el archivo ``settings.py`` indicamos en TEMPLATES que la carpeta ``build`` será la carpeta de plantillas.\n",
    "\n",
    "![](Imagenes/Build%20Templates.png)\n",
    "\n",
    "3. En el archivo ``urls.py`` indicamos que opere con index.html.\n",
    "\n",
    "![](Imagenes/Merge.png)\n",
    "\n",
    "4. Ya podemos ejecutar el comando ``python manage.py runserver`` y ver a Django y React funcionando juntos en el puerto ``http://localhost:8000``.\n",
    "\n",
    "![](Imagenes/Loading%20at%20the%20port.png)"
   ]
  },
  {
   "attachments": {},
   "cell_type": "markdown",
   "metadata": {},
   "source": [
    "## Extensiones de VSCode\n",
    "\n",
    "* [Sqlite](https://marketplace.visualstudio.com/items?itemName=alexcvzz.vscode-sqlite) para ver la base de datos\n",
    "* [Python](https://marketplace.visualstudio.com/items?itemName=ms-python.python) para ver el código\n",
    "* [Tailwind CSS IntelliSense](https://marketplace.visualstudio.com/items?itemName=bradlc.vscode-tailwindcss) para ver las clases de Tailwind\n",
    "* [ES7 React/Redux/GraphQL/React-Native snippets](https://marketplace.visualstudio.com/items?itemName=dsznajder.es7-react-js-snippets) para ver los snippets de React\n",
    "* [Error Lens](https://marketplace.visualstudio.com/items?itemName=usernamehw.errorlens) para ver los errores en el código\n",
    "\n",
    "\n",
    "\n",
    "## Webs Importantes\n",
    "\n",
    "#### Django\n",
    "* [Django](https://www.djangoproject.com/) para crear el proyecto de Django\n",
    "* [Django Rest Framework](https://www.django-rest-framework.org/) Para crear la API de Django\n",
    "* [pypi](https://pypi.org/) Para buscar librerías de Django\n",
    "\n",
    "#### React\n",
    "* [React](https://es.reactjs.org/) Para crear el frontend de la aplicación\n",
    "* [npm](https://www.npmjs.com/) Para buscar librerías de react\n",
    "* [Regex](https://regex101.com/) Para probar las expresiones regulares\n",
    "\n",
    "#### CSS\n",
    "* [Talwind](https://tailwindcss.com/) Para crear el CSS de la aplicación\n",
    "* [Hyperui](https://www.hyperui.dev/) Para crear el CSS de la aplicación\n",
    "* [Tenor](https://tenor.com/) Para buscar gifs para el proyecto\n",
    "\n",
    "#### Comandos Utiles\n",
    "\n",
    "* ``pip freeze > requirements.txt`` Para crear el archivo de requerimientos\n",
    "* ``pip install -r requirements.txt`` Para instalar los requerimientos de python\n",
    "* ``npm list --prod --json > pakage.json`` Para crear el archivo de requerimientos de react\n",
    "* ``npm install`` Para instalar los requerimientos de react"
   ]
  }
 ],
 "metadata": {
  "language_info": {
   "name": "python"
  },
  "orig_nbformat": 4
 },
 "nbformat": 4,
 "nbformat_minor": 2
}
