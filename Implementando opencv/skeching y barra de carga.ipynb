{
 "cells": [
  {
   "cell_type": "markdown",
   "metadata": {},
   "source": [
    "### APLICANDO EFECTO DE «SKETCHING» SOBRE IMÁGENES CON PYTHON Y OPENCV.\n",
    "\n",
    "1. Primero ingresamos a la carpeta donde esta ubicado python por medio de ``cd + la ruta donde de python``\n",
    "\n",
    "2. Tenemos que intalar opencv en nuestro dispositivo dijitamas en la terminal ``pip install opencv-contrib-python``\n",
    "\n",
    "```py\n",
    "#importamos open cv\n",
    "import cv2\n",
    "from cv2 import invert\n",
    "from cv2 import pencilSketch\n",
    "from numpy import imag\n",
    "\n",
    "#Importamos una imagen con la dirección del archivo\n",
    "image = cv2.imread(r'Popeye.png')\n",
    "\n",
    "#La convertimos a escala de grises\n",
    "gray_image=cv2.cvtColor(image,cv2.COLOR_BGR2GRAY)\n",
    "\n",
    "#INVERTIMOS LA IMAGEN EN ESCALA DE GRISES\n",
    "inverted=255-gray_image\n",
    "#Lo difuminamos\n",
    "blurred=cv2.GaussianBlur(inverted,(21,21),0)\n",
    "\n",
    "#Volvemos a invertir la imagen difuminada\n",
    "invertedblur=255-blurred\n",
    "#Pasamos a vosquejar \n",
    "bosquejo=cv2.divide(gray_image,invertedblur,scale=256.0)\n",
    "\n",
    "#guardamos la imagne final con el nombre que queramos\n",
    "cv2.imwrite('nuevo popeye.png',bosquejo)\n",
    "```\n",
    "\n",
    "+ Utilizaremos una imagen de popeye como prueba\n",
    "\n",
    "![evidencia\\popeye.png](evidencia/popeye.png)\n",
    "\n",
    "+ Este es el resultado final luego de ejecutar el código\n",
    "\n",
    "![evidencia\\resultado.png](evidencia/resultado.png)\n",
    "\n",
    "\n"
   ]
  },
  {
   "cell_type": "markdown",
   "metadata": {},
   "source": [
    "### Creando barra de porcentaje con python\n",
    "\n",
    "```py\n",
    "import math \n",
    "from colorama import Back, init\n",
    "\n",
    "#iniciamos a colorear\n",
    "init ()\n",
    "\n",
    "print (\"calulando tiempor de carga...\")\n",
    "def progress_bar (progress, total):\n",
    "    #Calculamos el porcentaje\n",
    "    percent= 100 * (progress / float(total))\n",
    "    #Definimos la barra\n",
    "    bar = (Back.BLUE +' '+ Back.RESET) * init (percent) + '-' * (100 - init (percent))\n",
    "    #Mostramos la barra junto con el porcentaje\n",
    "    print(f\"\\r|{bar} |  {percent:.2f}%\", end=\"\\r\")\n",
    "\n",
    "#Generamos la lista con sus valores\n",
    "numbers = [x * 5 for x in range(2000,3000)]\n",
    "\n",
    "#Muestra el resultado\n",
    "results = []\n",
    "\n",
    "#Se realizan los calculos\n",
    "for i, x in enumerate (numbers):\n",
    "    results.append(math.factorial(x))\n",
    "    progress_bar(i + 1, len (numbers))\n",
    " ```"
   ]
  }
 ],
 "metadata": {
  "interpreter": {
   "hash": "ccbe3b447ab7c5bcef7fdc982284d76d165c0ad7291194dac93076b3c601edc5"
  },
  "kernelspec": {
   "display_name": "Python 3.10.7 64-bit",
   "language": "python",
   "name": "python3"
  },
  "language_info": {
   "codemirror_mode": {
    "name": "ipython",
    "version": 3
   },
   "file_extension": ".py",
   "mimetype": "text/x-python",
   "name": "python",
   "nbconvert_exporter": "python",
   "pygments_lexer": "ipython3",
   "version": "3.10.7"
  },
  "orig_nbformat": 4
 },
 "nbformat": 4,
 "nbformat_minor": 2
}
