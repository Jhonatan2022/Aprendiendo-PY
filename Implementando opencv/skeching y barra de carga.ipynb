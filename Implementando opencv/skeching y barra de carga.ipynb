{
 "cells": [
  {
   "cell_type": "markdown",
   "metadata": {},
   "source": [
    "### APLICANDO EFECTO DE «SKETCHING» SOBRE IMÁGENES CON PYTHON Y OPENCV.\n",
    "\n",
    "1. Primero ingresamos a la carpeta donde esta ubicado python por medio de ``cd + la ruta donde de python``\n",
    "\n",
    "2. Tenemos que intalar opencv en nuestro dispositivo dijitamas en la terminal ``pip install opencv-contrib-python``\n",
    "\n",
    "```py\n",
    "#importamos open cv\n",
    "import cv2\n",
    "from cv2 import invert\n",
    "from cv2 import pencilSketch\n",
    "from numpy import imag\n",
    "\n",
    "#Importamos una imagen con la dirección del archivo\n",
    "image = cv2.imread(r'Popeye.png')\n",
    "\n",
    "#La convertimos a escala de grises\n",
    "gray_image=cv2.cvtColor(image,cv2.COLOR_BGR2GRAY)\n",
    "\n",
    "#INVERTIMOS LA IMAGEN EN ESCALA DE GRISES\n",
    "inverted=255-gray_image\n",
    "#Lo difuminamos\n",
    "blurred=cv2.GaussianBlur(inverted,(21,21),0)\n",
    "\n",
    "#Volvemos a invertir la imagen difuminada\n",
    "invertedblur=255-blurred\n",
    "#Pasamos a vosquejar \n",
    "bosquejo=cv2.divide(gray_image,invertedblur,scale=256.0)\n",
    "\n",
    "#guardamos la imagne final con el nombre que queramos\n",
    "cv2.imwrite('nuevo popeye.png',bosquejo)\n",
    "```\n",
    "\n",
    "+ Utilizaremos una imagen de popeye como prueba\n",
    "\n",
    "![evidencia\\popeye.png](evidencia/popeye.png)\n",
    "\n",
    "+ Este es el resultado final luego de ejecutar el código\n",
    "\n",
    "![evidencia\\resultado.png](evidencia/resultado.png)\n",
    "\n",
    "\n"
   ]
  },
  {
   "cell_type": "markdown",
   "metadata": {},
   "source": [
    "### Creando barra de porcentaje con python"
   ]
  },
  {
   "cell_type": "code",
   "execution_count": 1,
   "metadata": {},
   "outputs": [
    {
     "name": "stdout",
     "output_type": "stream",
     "text": [
      "Calculando\n",
      "|\u001b[44m \u001b[49m\u001b[44m \u001b[49m\u001b[44m \u001b[49m\u001b[44m \u001b[49m\u001b[44m \u001b[49m\u001b[44m \u001b[49m\u001b[44m \u001b[49m\u001b[44m \u001b[49m\u001b[44m \u001b[49m\u001b[44m \u001b[49m\u001b[44m \u001b[49m\u001b[44m \u001b[49m\u001b[44m \u001b[49m\u001b[44m \u001b[49m\u001b[44m \u001b[49m\u001b[44m \u001b[49m\u001b[44m \u001b[49m\u001b[44m \u001b[49m\u001b[44m \u001b[49m\u001b[44m \u001b[49m\u001b[44m \u001b[49m\u001b[44m \u001b[49m\u001b[44m \u001b[49m\u001b[44m \u001b[49m\u001b[44m \u001b[49m\u001b[44m \u001b[49m\u001b[44m \u001b[49m\u001b[44m \u001b[49m\u001b[44m \u001b[49m\u001b[44m \u001b[49m\u001b[44m \u001b[49m\u001b[44m \u001b[49m\u001b[44m \u001b[49m\u001b[44m \u001b[49m\u001b[44m \u001b[49m\u001b[44m \u001b[49m\u001b[44m \u001b[49m\u001b[44m \u001b[49m\u001b[44m \u001b[49m\u001b[44m \u001b[49m\u001b[44m \u001b[49m\u001b[44m \u001b[49m\u001b[44m \u001b[49m\u001b[44m \u001b[49m\u001b[44m \u001b[49m\u001b[44m \u001b[49m\u001b[44m \u001b[49m\u001b[44m \u001b[49m\u001b[44m \u001b[49m\u001b[44m \u001b[49m--------------------------------------------------| 50.00%\r"
     ]
    }
   ],
   "source": [
    "import math\n",
    "import numbers\n",
    "from unittest import result\n",
    "from colorama import Back, init\n",
    "\n",
    "print (\"Calculando\")\n",
    "def progreso (progress, total):\n",
    "    #Determinamos cuanto porcentaje queremos que cargue\n",
    "    porcentaje = 50 * (progress / float(total))\n",
    "    #Definimos la barra de carga\n",
    "    #También lo podemos remplazar por la siguiente linea teniendo como resultado la carga pero sin el color\n",
    "    '''barrra = '|' * int(porcentaje) + '-' * (100 - int (porcentaje))'''\n",
    "    barrra = (Back.BLUE +' '+ Back.RESET) * int(porcentaje) + '-' * (100 - int (porcentaje))\n",
    "    #Mostramos la barra junto con el porcentaje\n",
    "    print (f\"\\r|{barrra}| {porcentaje:.2f}%\", end=\"\\r\")\n",
    "\n",
    "#Gneramos la lista de los valores y la velocidad de carga\n",
    "numbers = [x * 5 for x in range(500,1000)]\n",
    "\n",
    "#Guardamos los resultados\n",
    "resultado = []\n",
    "\n",
    "for i, x in enumerate (numbers):\n",
    "    resultado.append(math.factorial(x))\n",
    "    #Llamamos nuestra función progreso\n",
    "    progreso(i + 1, len(numbers))"
   ]
  }
 ],
 "metadata": {
  "kernelspec": {
   "display_name": "Python 3.10.8 64-bit",
   "language": "python",
   "name": "python3"
  },
  "language_info": {
   "codemirror_mode": {
    "name": "ipython",
    "version": 3
   },
   "file_extension": ".py",
   "mimetype": "text/x-python",
   "name": "python",
   "nbconvert_exporter": "python",
   "pygments_lexer": "ipython3",
   "version": "3.10.8"
  },
  "orig_nbformat": 4,
  "vscode": {
   "interpreter": {
    "hash": "472fbeedb143d593a450bd9e85487ed0b7b7bb937fd0ffdfb685f7804c557ff7"
   }
  }
 },
 "nbformat": 4,
 "nbformat_minor": 2
}
