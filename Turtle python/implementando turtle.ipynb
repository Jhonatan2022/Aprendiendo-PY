{
 "cells": [
  {
   "cell_type": "markdown",
   "metadata": {},
   "source": [
    "## Ejercicios con Turtle Python\n"
   ]
  },
  {
   "cell_type": "code",
   "execution_count": null,
   "metadata": {},
   "outputs": [],
   "source": [
    "#Importamos el modulo turtle\n",
    "from turtle import *\n",
    "\n",
    "#Determinamos el color del trazo y el relleno de esté.\n",
    "color('red', 'yellow')\n",
    "\n",
    "#Iniciamos el cursor\n",
    "begin_fill()\n",
    "#Creamos un bucle para la figura que queremos\n",
    "while True:\n",
    "    #Determinamos el perimetro del nuestra figura\n",
    "    forward(200)\n",
    "    left(120)\n",
    "    if abs(position()) < 1:\n",
    "        break\n",
    "end_fill()\n",
    "done()"
   ]
  },
  {
   "cell_type": "markdown",
   "metadata": {},
   "source": [
    "+ Resultado del código anterior\n",
    "\n",
    "![Evidencias\\triangulo.png](Evidencias/triangulo.png)"
   ]
  },
  {
   "cell_type": "markdown",
   "metadata": {},
   "source": [
    "## Logo de windows con turtle python"
   ]
  },
  {
   "cell_type": "code",
   "execution_count": null,
   "metadata": {},
   "outputs": [],
   "source": [
    "#Importamos el modulo.\n",
    "import turtle\n",
    "from turtle import onkeypress, bye, done, listen\n",
    "\n",
    "#Iniciamos turtle y creamos area de dibujo\n",
    "t = turtle.Turtle ()\n",
    "s = turtle.Screen ()\n",
    "\n",
    "#Establecemos el color de fondo\n",
    "s.bgcolor (\"white\")\n",
    "#Velocidad puntero\n",
    "t.speed(2)\n",
    "\n",
    "#Posicionamos el puntero\n",
    "t.penup()\n",
    "t.goto(-50,60)\n",
    "t.pendown()\n",
    "#Determinamos el color de la linea\n",
    "t.color('black','#0609ec')\n",
    "\n",
    "#Iniciamos a rellenar\n",
    "t.begin_fill()\n",
    "#Dibujamos contornos\n",
    "t.goto(100,100)\n",
    "t.goto(100,-100)\n",
    "t.goto(-50,-60)\n",
    "t.goto(-50,60)\n",
    "#Finalizamos rellegno\n",
    "t.end_fill()\n",
    "\n",
    "#Cambiamos el color del puntero y lo desplazamos\n",
    "\n",
    "t.penup()\n",
    "t.goto(15,100)\n",
    "t.pendown()\n",
    "#Cambiamos el grosor de la linea\n",
    "t.width(8)\n",
    "t.color(\"white\")\n",
    "#trazamos una nueva linea\n",
    "t.goto(15,-100)\n",
    "\n",
    "#linea horizontal\n",
    "t.penup()\n",
    "t.goto(100,0)\n",
    "t.pendown()\n",
    "t.goto(-100,0)\n",
    "\n",
    "#Oprimir q para salir\n",
    "onkeypress(bye, 'q')\n",
    "listen()\n",
    "done()"
   ]
  },
  {
   "cell_type": "markdown",
   "metadata": {},
   "source": [
    "+ Resultado del codigo anterior\n",
    "\n",
    "![Evidencias\\windows.png](Evidencias/windows.png)"
   ]
  }
 ],
 "metadata": {
  "kernelspec": {
   "display_name": "Python 3.9.5 64-bit",
   "language": "python",
   "name": "python3"
  },
  "language_info": {
   "codemirror_mode": {
    "name": "ipython",
    "version": 3
   },
   "file_extension": ".py",
   "mimetype": "text/x-python",
   "name": "python",
   "nbconvert_exporter": "python",
   "pygments_lexer": "ipython3",
   "version": "3.9.5"
  },
  "orig_nbformat": 4,
  "vscode": {
   "interpreter": {
    "hash": "c347c8f9a7ef94e4c9e03b4513be7835ed18f45b99a2a817fb579f408b867b16"
   }
  }
 },
 "nbformat": 4,
 "nbformat_minor": 2
}
