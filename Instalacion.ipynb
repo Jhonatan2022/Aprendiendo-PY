{
 "cells": [
  {
   "attachments": {},
   "cell_type": "markdown",
   "metadata": {},
   "source": [
    "# Instalación de python en Windows\n",
    "\n",
    "1. Ingresamos a la página oficial e instalamos la version de preferencia: https://www.python.org/downloads/release/python-3109/ \n",
    "\n",
    "+ Por ultimo abrimmos nuestra consola y comprobamos las versiones\n",
    "\n",
    "![imagenes\\version.png](imagenes/version.png)\n",
    "\n"
   ]
  },
  {
   "attachments": {},
   "cell_type": "markdown",
   "metadata": {},
   "source": [
    "# Desinstalación de Python\n",
    "\n",
    "\n",
    "1. Abrimos la barra de busqueda y nos vamos a agregar o quitar programas\n",
    "\n",
    "![imagenes\\desintala.png](imagenes/desintala.png)\n",
    "\n",
    "2. Comprobamos en la terminal con el siguiente comando: Python -V\n",
    "\n"
   ]
  }
 ],
 "metadata": {
  "language_info": {
   "name": "python"
  },
  "orig_nbformat": 4
 },
 "nbformat": 4,
 "nbformat_minor": 2
}
