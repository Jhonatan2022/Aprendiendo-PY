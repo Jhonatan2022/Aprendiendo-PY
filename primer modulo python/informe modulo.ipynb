{
 "cells": [
  {
   "cell_type": "markdown",
   "metadata": {},
   "source": [
    "# Primer modulo de python"
   ]
  },
  {
   "cell_type": "markdown",
   "metadata": {},
   "source": [
    "1) Primero importamos el modulo hashlib que permite realizar cifrados directamente desde Python con los algoritmos BLAKE, SHAKE, SHA1, SHA224, SHA256, SHA384, SHA512 y MD5.\n",
    "\n",
    "![evidenciamodulo1\\modulo.png](evidenciamodulo1/modulo.png)\n",
    "\n",
    "2) Luego creamos un archivo llamado main.py donde ejecutaremos el modulo que creamos\n",
    "\n",
    "![evidenciamodulo1\\main.png](evidenciamodulo1/main.png)\n",
    "\n",
    "+ Cuando ejecutamos el modulo nos pedira digitar la dirección de nuestro archivo .txt \n",
    "\n",
    "![evidenciamodulo1\\encripto.png](evidenciamodulo1/encripto.png)\n",
    "\n",
    "3) Por ultimo nos lanza el resultado de nuestro archivo encriptado.\n",
    "\n",
    "![evidenciamodulo1\\resultado.png](evidenciamodulo1/resultado.png)\n"
   ]
  }
 ],
 "metadata": {
  "interpreter": {
   "hash": "6f7c4d44365b28014734406e4d617c1e1f76ea196def854c7b951a230f6e24f1"
  },
  "kernelspec": {
   "display_name": "Python 3.9.5 64-bit",
   "language": "python",
   "name": "python3"
  },
  "language_info": {
   "codemirror_mode": {
    "name": "ipython",
    "version": 3
   },
   "file_extension": ".py",
   "mimetype": "text/x-python",
   "name": "python",
   "nbconvert_exporter": "python",
   "pygments_lexer": "ipython3",
   "version": "3.9.5"
  },
  "orig_nbformat": 4
 },
 "nbformat": 4,
 "nbformat_minor": 2
}
