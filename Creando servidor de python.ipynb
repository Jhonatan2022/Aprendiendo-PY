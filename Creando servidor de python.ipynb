{
 "cells": [
  {
   "cell_type": "markdown",
   "metadata": {},
   "source": [
    "# Pasos para crear un servidor local de python"
   ]
  },
  {
   "cell_type": "markdown",
   "metadata": {},
   "source": [
    "1)  Tener instalada la ultima versión de python: https://www.python.org/downloads/\n",
    "\n",
    "2)  Abrir una terminar en su sistema preferido (cmd, powershell)\n",
    "\n",
    "3)  Digitamos ```python -m ```(-m nos sirve para acceder a las librerias predeterminadas)\n",
    "\n",
    "4)  Digitamos ```python -m http.server + puerto``` puede digitar cualquier puerto que no este ocupado pro ejemplo (8000)\n",
    "\n",
    "![server\\terminal.png](server/terminal.png)\n",
    "\n",
    "5)  A continuación digitamos ```ipcongfig ``` y nos vamos a la parte que diga adaptador ethernet o wirles (wi-fi)\n",
    "\n",
    "![server\\ipserver.png](server/ipserver.png)\n",
    "\n",
    "![server\\direccionip.png](server/direccionip.png)\n",
    "\n",
    "6)  Finalmente nuestro servidor ya esta disponible en cualquier equipo que se encuentre en la misma red\n",
    "\n",
    "+ Podremor ir a nuestro navegador de preferencia he ingresar la dirección ip de nuestra red que en este caso es: 10.175.82.210\n",
    "+ Dijitamos la dirección ip seguido del puerto que escogimos en este caso el 8000 \n",
    "\n",
    "![server\\busqueda.png](server/busqueda.png)\n",
    "\n",
    "+ Seguido nos generar un registro del equipo que haya accedido a nuestro servidor local\n",
    "\n",
    "![server\\historial.png](server/historial.png)\n",
    "\n",
    "7) Por ultimo si queremos inhabilitar el servidor local oprimimos ctrl + c y quedara inactivo\n",
    "\n",
    "![server\\inhabilitar.png](server/inhabilitar.png)\n",
    "\n",
    "\n",
    "\n",
    "\n"
   ]
  },
  {
   "cell_type": "markdown",
   "metadata": {},
   "source": [
    "\n",
    "---\n",
    "+ d\n",
    "\n",
    "sdfsdf\n",
    "    fsdf\n",
    " este ahce esto :\n",
    "\n",
    " ```py\n",
    " import\n",
    " if():\n",
    "    print()\n",
    " ```"
   ]
  }
 ],
 "metadata": {
  "kernelspec": {
   "display_name": "Python 3.10.7 64-bit",
   "language": "python",
   "name": "python3"
  },
  "language_info": {
   "name": "python",
   "version": "3.10.7"
  },
  "orig_nbformat": 4,
  "vscode": {
   "interpreter": {
    "hash": "ccbe3b447ab7c5bcef7fdc982284d76d165c0ad7291194dac93076b3c601edc5"
   }
  }
 },
 "nbformat": 4,
 "nbformat_minor": 2
}
