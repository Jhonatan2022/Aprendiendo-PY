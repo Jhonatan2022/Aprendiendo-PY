{
 "cells": [
  {
   "cell_type": "markdown",
   "metadata": {},
   "source": [
    "# Pasos para crear un servidor local de python"
   ]
  },
  {
   "cell_type": "markdown",
   "metadata": {},
   "source": [
    "1)  Tener instalada la ultima versión de python: https://www.python.org/downloads/\n",
    "\n",
    "2)  Abrir una terminar en su sistema preferido (cmd, powershell)\n",
    "\n",
    "![https://i.imgur.com/4rC0PjG.png](https://i.imgur.com/4rC0PjG.png)\n",
    "\n",
    "3)  Digitamos python -m (-m nos sirve para acceder a las librerias predeterminadas)\n",
    "\n",
    "```cmd\n",
    "pyton -m\n",
    "```\n"
   ]
  },
  {
   "cell_type": "markdown",
   "metadata": {},
   "source": [
    "![https://www.python.org/static/img/python-logo.png](https://www.python.org/static/img/python-logo.png)\n",
    "\n",
    "---\n",
    "\n",
    "# nnd\n",
    "## \n",
    "\n",
    "+ d\n",
    "+ d\n",
    "\n",
    "daklfjaksfj\n",
    "fsdf\n",
    "sdfsdf\n",
    "\n",
    "    fkjsd\n",
    "    fsd\n",
    "    fsdf\n",
    " este ahce esto :\n",
    "\n",
    " ```py\n",
    " \n",
    " import \n",
    "\n",
    " if():\n",
    "\n",
    "    print()\n",
    " \n",
    " ```"
   ]
  }
 ],
 "metadata": {
  "language_info": {
   "name": "python"
  },
  "orig_nbformat": 4
 },
 "nbformat": 4,
 "nbformat_minor": 2
}
