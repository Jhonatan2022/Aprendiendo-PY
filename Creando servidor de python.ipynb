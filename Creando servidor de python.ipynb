{
 "cells": [
  {
   "cell_type": "markdown",
   "metadata": {},
   "source": [
    "# Pasos para crear un servidor local de python"
   ]
  },
  {
   "cell_type": "markdown",
   "metadata": {},
   "source": [
    "1)  Tener instalada la ultima versión de python: https://www.python.org/downloads/\n",
    "\n",
    "2)  Abrir una terminar en su sistema preferido (cmd, powershell)\n",
    "\n",
    "3)  Digitamos ```python -m ```(-m nos sirve para acceder a las librerias predeterminadas)\n",
    "\n",
    "4)  Digitamos ```python -m http.server + puerto``` puede digitar cualquier puerto que no este ocupado pro ejemplo (8000)\n",
    "\n",
    "![server\\terminal.png](server/terminal.png)\n",
    "\n",
    "5)  A continuación digitamos ```ipcongfig ``` y nos vamos a la parte que diga adaptador ethernet o wirles (wi-fi)\n",
    "\n",
    "![server\\ipserver.png](server/ipserver.png)\n",
    "\n",
    "![server\\direccionip.png](server/direccionip.png)\n",
    "\n",
    "6)  Finalmente nuestro servidor ya esta disponible en cualquier equipo que se encuentre en la misma red\n",
    "\n",
    "+ Podremor ir a nuestro navegador de preferencia he ingresar la dirección ip de nuestra red que en este caso es: 10.175.82.210\n",
    "+ Dijitamos la dirección ip seguido del puerto que escogimos en este caso el 8000\n",
    "\n",
    "![server\\busqueda.png](server/busqueda.png)\n",
    "\n",
    "\n",
    "\n",
    "\n",
    "\n"
   ]
  },
  {
   "cell_type": "markdown",
   "metadata": {},
   "source": [
    "\n",
    "---\n",
    "+ d\n",
    "\n",
    "sdfsdf\n",
    "    fsdf\n",
    " este ahce esto :\n",
    "\n",
    " ```py\n",
    " import\n",
    " if():\n",
    "    print()\n",
    " ```"
   ]
  }
 ],
 "metadata": {
  "kernelspec": {
   "display_name": "Python 3.9.5 64-bit",
   "language": "python",
   "name": "python3"
  },
  "language_info": {
   "name": "python",
   "version": "3.9.5"
  },
  "orig_nbformat": 4,
  "vscode": {
   "interpreter": {
    "hash": "c347c8f9a7ef94e4c9e03b4513be7835ed18f45b99a2a817fb579f408b867b16"
   }
  }
 },
 "nbformat": 4,
 "nbformat_minor": 2
}
