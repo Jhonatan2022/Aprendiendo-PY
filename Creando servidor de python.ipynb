{
 "cells": [
  {
   "cell_type": "markdown",
   "metadata": {},
   "source": [
    "# Pasos para crear un servidor local de python"
   ]
  },
  {
   "cell_type": "markdown",
   "metadata": {},
   "source": [
    "1)  Tener instalada la ultima versión de python: https://www.python.org/downloads/\n",
    "\n",
    "2)  Abrir una terminar en su sistema preferido (cmd, powershell)\n",
    "\n",
    "![https://i.imgur.com/4rC0PjG.png](https://i.imgur.com/4rC0PjG.png)\n",
    "\n",
    "3)  Digitamos ```python -m ```(-m nos sirve para acceder a las librerias predeterminadas)\n",
    "\n",
    "![](2022-10-13-15-08-26.png)\n",
    "\n",
    "4)  Digitamos ```python -m http.server + puerto``` puede digitar cualquier puerto que no este ocupado pro ejemplo (8000)\n",
    "\n",
    "5)  A continuación digitamos ```ipcongfig ``` y nos vamos a la parte que diga adaptador ethernet o wirles (wi-fi)\n",
    "\n",
    "\n",
    "\n",
    "\n"
   ]
  },
  {
   "cell_type": "markdown",
   "metadata": {},
   "source": [
    "![https://www.python.org/static/img/python-logo.png](https://www.python.org/static/img/python-logo.png)\n",
    "\n",
    "---\n",
    "\n",
    "# nnd\n",
    "## \n",
    "\n",
    "+ d\n",
    "+ d\n",
    "\n",
    "daklfjaksfj\n",
    "fsdf\n",
    "sdfsdf\n",
    "\n",
    "    fkjsd\n",
    "    fsd\n",
    "    fsdf\n",
    " este ahce esto :\n",
    "\n",
    " ```py\n",
    " \n",
    " import \n",
    "\n",
    " if():\n",
    "\n",
    "    print()\n",
    " \n",
    " ```"
   ]
  }
 ],
 "metadata": {
  "kernelspec": {
   "display_name": "Python 3.9.5 64-bit",
   "language": "python",
   "name": "python3"
  },
  "language_info": {
   "name": "python",
   "version": "3.9.5"
  },
  "orig_nbformat": 4,
  "vscode": {
   "interpreter": {
    "hash": "c347c8f9a7ef94e4c9e03b4513be7835ed18f45b99a2a817fb579f408b867b16"
   }
  }
 },
 "nbformat": 4,
 "nbformat_minor": 2
}
