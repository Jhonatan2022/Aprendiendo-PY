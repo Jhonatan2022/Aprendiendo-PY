{
 "cells": [
  {
   "attachments": {},
   "cell_type": "markdown",
   "metadata": {},
   "source": [
    "### APLICANDO EFECTO DE «SKETCHING» SOBRE IMÁGENES CON PYTHON Y OPENCV.\n",
    "\n",
    "1. Primero ingresamos a la carpeta donde esta ubicado python por medio de ``cd + la ruta de python``\n",
    "\n",
    "2. Instalamos opencv en nuestro dispositivo, dijitando en la terminal ``pip install opencv-contrib-python``\n",
    "\n",
    "3. Actualizamos los paquetes de python con ``pip install --upgrade pip ``\n",
    "\n",
    "+ Utilizaremos una imagen de popeye como prueba\n",
    "\n",
    "![evidencia\\popeye.png](evidencia/popeye.png)\n",
    "\n",
    "+ Este es el resultado final luego de ejecutar el código\n",
    "\n",
    "![evidencia\\resultado.png](evidencia/resultado.png)"
   ]
  },
  {
   "attachments": {},
   "cell_type": "markdown",
   "metadata": {},
   "source": [
    "### PIXELANDO IMAGEN EN PYTHON, CON «PIL»\n",
    "\n",
    "1. Primero ingresamos a la carpeta donde esta ubicado python por medio de ``cd + la ruta de python``\n",
    "\n",
    "2. Instalamos pillow en nuestro dispositivo dijitando en la terminal ``pip install pillow``\n",
    "\n",
    "3. Actualizamos los paquetes de python con ``pip install --upgrade pip ``\n",
    "\n",
    "\n",
    "+ Utilizaremos una imagen de popeye como prueba\n",
    "\n",
    "![evidencia\\popeye.png](evidencia/popeye.png)\n",
    "\n",
    "+ Mostramos el resultado final\n",
    "\n",
    "![evidencia\\nuevo.png](evidencia/nuevo.png)"
   ]
  }
 ],
 "metadata": {
  "kernelspec": {
   "display_name": "Python 3.10.8 64-bit",
   "language": "python",
   "name": "python3"
  },
  "language_info": {
   "codemirror_mode": {
    "name": "ipython",
    "version": 3
   },
   "file_extension": ".py",
   "mimetype": "text/x-python",
   "name": "python",
   "nbconvert_exporter": "python",
   "pygments_lexer": "ipython3",
   "version": "3.10.8"
  },
  "orig_nbformat": 4,
  "vscode": {
   "interpreter": {
    "hash": "472fbeedb143d593a450bd9e85487ed0b7b7bb937fd0ffdfb685f7804c557ff7"
   }
  }
 },
 "nbformat": 4,
 "nbformat_minor": 2
}
