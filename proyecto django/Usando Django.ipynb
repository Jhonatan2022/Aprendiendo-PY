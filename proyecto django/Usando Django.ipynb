{
 "cells": [
  {
   "cell_type": "markdown",
   "metadata": {},
   "source": [
    "# Implementando Django\n",
    "\n",
    "#### Requisitos\n",
    "\n",
    "1. Terner python instalado https://www.python.org/downloads/\n",
    "\n",
    "### Pasos a seguir\n",
    "\n",
    "Si deseas instalarlo directamente sigue este enlace: https://www.djangoproject.com/download/ \n",
    "\n",
    "1. digiar en la terminal el siguiente comando ``pip install Django==4.1.3``\n",
    "\n",
    "![Imagenes\\instalacion.png](Imagenes/instalacion.png)\n",
    "\n",
    "2. Ahora comprovaremos la correcta intalación de Django abriendo nuestra consola de python y digitando ``import django``\n",
    "\n",
    "+ y en consiguiente digitamos ```django.VERSION``\n",
    "\n",
    "![Imagenes\\python.png](Imagenes/python.png)\n",
    "\n",
    "![Imagenes\\django.png](Imagenes/django.png)\n"
   ]
  },
  {
   "cell_type": "markdown",
   "metadata": {},
   "source": [
    "# Creando un proyecto con Django\n",
    "\n",
    "1. Nos dirigimos a nuestro terminal y digitamos ``django-admin startproject  p`` \n",
    "\n",
    "+ En este caso ``p`` sera el nombre de tu proyecto pero puedes poner cualquier nombre.\n",
    "\n",
    "- Vamos a solicionar este error que nos aparece.\n",
    "![Imagenes\\error.png](Imagenes/error.png)\n",
    "\n",
    "+ Nos dirigimos a nuestro disco C y relizamos la busqueda de ```django-admin`` y copiamos la ruta del archivo.\n",
    "\n",
    "![Imagenes\\solucion.png](Imagenes/solucion.png)\n",
    "\n",
    "+ Ahora nos dirigimos a las variables de entorno de nuestro sistema\n",
    "\n",
    "- Damos doble click en path \n",
    "\n",
    "![Imagenes\\path.png](Imagenes/path.png)\n",
    "\n",
    "+ Damos click en nueva y pegamos la ruta que copiamos anteriormente\n",
    "\n",
    "![Imagenes\\direccion.png](Imagenes/direccion.png)\n",
    "\n",
    "2. Cerramos la terminal anterior y abrimos una nueva y volvemos a probar el comando ``django-admin startproject escaner``\n",
    "\n",
    "+ Y como pordemos ver el error se soluciono y ya se creo nuestro proyecto \n",
    "\n",
    "![Imagenes\\proyecto.png](Imagenes/proyecto.png)\n",
    "\n",
    "## Confirmar el funccionamiento correcto de nuestro proyecto\n",
    "\n",
    "1. Nos dirigimso a la carpeta de nuestro proyecto con ``cd + la carpeta``\n",
    "\n",
    "![Imagenes\\carpeta.png](Imagenes/carpeta.png)\n",
    "\n",
    "2. Ahora vamos a correr nuestro servidor para visualizar el correcto funcionamiento de las paginas, digitando ``python manage.py runserver``\n",
    "\n",
    "\n",
    "3. Chaparro le sabe\n",
    "\n",
    "![Imagenes\\chaparro.png](Imagenes/chaparro.png)\n",
    "\n",
    "![Imagenes\\chaparro2.png](Imagenes/chaparro2.png)"
   ]
  }
 ],
 "metadata": {
  "kernelspec": {
   "display_name": "Python 3.10.8 64-bit (microsoft store)",
   "language": "python",
   "name": "python3"
  },
  "language_info": {
   "name": "python",
   "version": "3.10.8"
  },
  "orig_nbformat": 4,
  "vscode": {
   "interpreter": {
    "hash": "32b0b8de4510fb14964ec073237d635686eb0a5f0536e805fd7148558b41c020"
   }
  }
 },
 "nbformat": 4,
 "nbformat_minor": 2
}
